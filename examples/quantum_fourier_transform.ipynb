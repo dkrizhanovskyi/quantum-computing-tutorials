{
 "cells": [
  {
   "cell_type": "markdown",
   "metadata": {},
   "source": [
    "# Quantum Fourier Transform\n",
    "\n",
    "In this example, we will implement the Quantum Fourier Transform (QFT) using Qiskit."
   ]
  },
  {
   "cell_type": "code",
   "execution_count": null,
   "metadata": {},
   "outputs": [],
   "source": [
    "import numpy as np\n",
    "from qiskit import QuantumCircuit, Aer, execute\n",
    "\n",
    "# Function to apply QFT\n",
    "def apply_qft(qc, n):\n",
    "    for j in range(n):\n",
    "        for k in range(j):\n",
    "            qc.cp(np.pi/2**(j-k), k, j)\n",
    "        qc.h(j)\n",
    "    return qc\n",
    "\n",
    "# Create a Quantum Circuit\n",
    "qc = QuantumCircuit(3)\n",
    "\n",
    "# Apply QFT\n",
    "apply_qft(qc, 3)\n",
    "\n",
    "# Draw the circuit\n",
    "qc.draw('mpl')"
   ]
  }
 ],
 "metadata": {
  "kernelspec": {
   "display_name": "Python 3",
   "language": "python",
   "name": "python3"
  },
  "language_info": {
   "codemirror_mode": {
    "name": "ipython",
    "version": 3
   },
   "file_extension": ".py",
   "mimetype": "text/x-python",
   "name": "python",
   "nbconvert_exporter": "python",
   "pygments_lexer": "ipython3",
   "version": "3.7.4"
  }
 },
 "nbformat": 4,
 "nbformat_minor": 2
}