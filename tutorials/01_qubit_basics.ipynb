{
  "metadata": {
    "title": "Qubit Basics",
    "author": "Daniil Krizhanovskyi",
    "description": "In-depth introduction to qubits, including their creation, visualization, mathematical representation, and basic properties.",
    "keywords": ["quantum computing", "qubit", "superposition", "Bloch sphere", "quantum gates", "Pauli matrices"]
  },
  "cells": [
    {
      "cell_type": "markdown",
      "metadata": {},
      "source": [
        "# Qubit Basics\n",
        "In this notebook, we will explore the basics of qubits, the fundamental building blocks of quantum computing. You will learn how to create qubits, visualize their states, understand key quantum concepts such as superposition, and work with the mathematical representations of qubit states and quantum gates."
      ]
    },
    {
      "cell_type": "markdown",
      "metadata": {},
      "source": [
        "## Table of Contents\n",
        "1. Introduction to Qubits\n",
        "2. Mathematical Representation of Qubits\n",
        "3. Quantum Gates and Their Matrix Representations\n",
        "4. Creating and Manipulating a Qubit\n",
        "5. Visualizing Qubit States on the Bloch Sphere\n",
        "6. Practical Exercise\n",
        "7. Conclusion"
      ]
    },
    {
      "cell_type": "markdown",
      "metadata": {},
      "source": [
        "## 1. Introduction to Qubits\n",
        "A qubit is the quantum analog of a classical bit. While a classical bit can be either 0 or 1, a qubit can exist in a superposition of both states. This superposition is a key feature of quantum computing, allowing for more complex computations to be performed in parallel."
      ]
    },
    {
      "cell_type": "markdown",
      "metadata": {},
      "source": [
        "## 2. Mathematical Representation of Qubits\n",
        "A qubit is typically represented as a linear combination of two basis states, $|0\\rangle$ and $|1\\rangle$:\n",
        "$$ |\\psi\\rangle = \\alpha|0\\rangle + \\beta|1\\rangle $$\n",
        "where $\\alpha$ and $\\beta$ are complex numbers, and $|\\alpha|^2 + |\\beta|^2 = 1$.\n\n",
        "The state $|0\\rangle$ is represented as:\n",
        "$$ |0\\rangle = \\begin{pmatrix} 1 \\\\ 0 \\end{pmatrix} $$\n",
        "And the state $|1\\rangle$ is represented as:\n",
        "$$ |1\\rangle = \\begin{pmatrix} 0 \\\\ 1 \\end{pmatrix} $$\n",
        "The general state of a qubit can therefore be written as:\n",
        "$$ |\\psi\\rangle = \\begin{pmatrix} \\alpha \\\\ \\beta \\end{pmatrix} $$"
      ]
    },
    {
      "cell_type": "markdown",
      "metadata": {},
      "source": [
        "## 3. Quantum Gates and Their Matrix Representations\n",
        "Quantum gates manipulate the state of qubits. They can be represented by unitary matrices that operate on the qubit states. Here are some of the basic quantum gates:\n\n",
        "**Pauli-X (NOT) Gate:**\n",
        "$$ X = \\begin{pmatrix} 0 & 1 \\\\ 1 & 0 \\end{pmatrix} $$\n",
        "This gate flips the state of a qubit, converting $|0\\rangle$ to $|1\\rangle$ and vice versa.\n\n",
        "**Hadamard Gate:**\n",
        "$$ H = \\frac{1}{\\sqrt{2}} \\begin{pmatrix} 1 & 1 \\\\ 1 & -1 \\end{pmatrix} $$\n",
        "The Hadamard gate creates a superposition state from a basis state. For example, applying $H$ to $|0\\rangle$ results in the state:\n",
        "$$ H|0\\rangle = \\frac{1}{\\sqrt{2}} (|0\\rangle + |1\\rangle) $$"
      ]
    },
    {
      "cell_type": "markdown",
      "metadata": {},
      "source": [
        "## 4. Creating and Manipulating a Qubit\n",
        "Let's start by creating a single qubit and applying a Hadamard gate to put it into a superposition of 0 and 1. We will also explore how different gates, such as the X gate, affect the qubit state."
      ]
    },
    {
      "cell_type": "code",
      "metadata": {},
      "source": [
        "from qiskit import QuantumCircuit\n",
        "qc = QuantumCircuit(1)\n",
        "qc.h(0)  # Apply Hadamard gate to create superposition\n",
        "qc.draw('mpl')"
      ],
      "execution_count": null,
      "outputs": []
    },
    {
      "cell_type": "code",
      "metadata": {},
      "source": [
        "qc = QuantumCircuit(1)\n",
        "qc.x(0)  # Apply X gate (NOT gate)\n",
        "qc.draw('mpl')"
      ],
      "execution_count": null,
      "outputs": []
    },
    {
      "cell_type": "markdown",
      "metadata": {},
      "source": [
        "## 5. Visualizing Qubit States on the Bloch Sphere\n",
        "We can visualize the state of a qubit using the Bloch sphere. The Bloch sphere is a geometrical representation of a qubit state, where the north and south poles correspond to the basis states $|0\\rangle$ and $|1\\rangle$, respectively."
      ]
    },
    {
      "cell_type": "code",
      "metadata": {},
      "source": [
        "from qiskit.visualization import plot_bloch_multivector\n",
        "from qiskit.quantum_info import Statevector\n",
        "\n",
        "state = Statevector.from_instruction(qc)\n",
        "plot_bloch_multivector(state)"
      ],
      "execution_count": null,
      "outputs": []
    },
    {
      "cell_type": "markdown",
      "metadata": {},
      "source": [
        "## 6. Practical Exercise\n",
        "Try modifying the circuit above by applying different gates (e.g., Y, Z, and combinations of gates) to see how the state of the qubit changes. Visualize the results using the Bloch sphere and interpret how the gates affect the qubit's state."
      ]
    },
    {
      "cell_type": "markdown",
      "metadata": {},
      "source": [
        "## 7. Conclusion\n",
        "In this notebook, you learned the basics of qubits, how to create them, how to manipulate their states with quantum gates, and how to visualize these states on the Bloch sphere. These are foundational concepts in quantum computing that will be used in more advanced topics."
      ]
    }
  ]
}
