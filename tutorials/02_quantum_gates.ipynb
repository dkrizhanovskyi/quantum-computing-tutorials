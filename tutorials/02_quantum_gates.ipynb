{
    "cells": [
        {
            "cell_type": "markdown",
            "metadata": {},
            "source": [
                "# Qubit Basics\n",
                "\n",
                "In this tutorial, we will cover the basics of qubits and how to work with them in Qiskit.\n",
                "\n",
                "A **qubit** is the basic unit of quantum information. It is the quantum analog of a classical bit and can exist in a superposition of states.\n"
            ]
        },
        {
            "cell_type": "code",
            "execution_count": null,
            "metadata": {},
            "outputs": [],
            "source": [
                "from qiskit import QuantumCircuit, Aer, execute\n",
                "\n",
                "# Create a Quantum Circuit with one qubit\n",
                "qc = QuantumCircuit(1)\n",
                "\n",
                "# Apply a Hadamard gate on qubit 0\n",
                "qc.h(0)\n",
                "\n",
                "# Draw the circuit\n",
                "qc.draw('mpl')"
            ]
        },
        {
            "cell_type": "markdown",
            "metadata": {},
            "source": [
                "The above code creates a quantum circuit with one qubit and applies a Hadamard gate, which puts the qubit in a superposition state.\n",
                "\n",
                "## Theoretical Background\n",
                "\n",
                "A qubit can be represented as a linear combination of the basis states |0⟩ and |1⟩:\n",
                "\n",
                "$$|\\psi\\rangle = \\alpha|0\\rangle + \\beta|1\\rangle$$\n",
                "\n",
                "where $\\alpha$ and $\\beta$ are complex numbers such that $|\\alpha|^2 + |\\beta|^2 = 1$.\n",
                "\n",
                "The Hadamard gate (H) is a single-qubit operation that transforms the basis states as follows:\n",
                "\n",
                "$$H|0\\rangle = \\frac{1}{\\sqrt{2}}(|0\\rangle + |1\\rangle)$$\n",
                "$$H|1\\rangle = \\frac{1}{\\sqrt{2}}(|0\\rangle - |1\\rangle)$$\n",
                "\n",
                "Applying the Hadamard gate to the |0⟩ state creates an equal superposition of |0⟩ and |1⟩."
            ]
        },
        {
            "cell_type": "code",
            "execution_count": null,
            "metadata": {},
            "outputs": [],
            "source": [
                "# Use Aer's qasm_simulator\n",
                "simulator = Aer.get_backend('qasm_simulator')\n",
                "\n",
                "# Execute the circuit on the qasm simulator\n",
                "job = execute(qc, simulator, shots=1000)\n",
                "\n",
                "# Grab results from the job\n",
                "result = job.result()\n",
                "\n",
                "# Returns counts\n",
                "counts = result.get_counts(qc)\n",
                "print(\"Counts:\", counts)\n",
                "\n",
                "# Plot a histogram\n",
                "from qiskit.visualization import plot_histogram\n",
                "plot_histogram(counts)"
            ]
        },
        {
            "cell_type": "markdown",
            "metadata": {},
            "source": [
                "The above code simulates the quantum circuit and measures the qubit multiple times to obtain the probability distribution of the states.\n",
                "\n",
                "## Results and Analysis\n",
                "\n",
                "After executing the circuit, we obtain the counts of each state. Since the qubit was put into a superposition state, we expect approximately equal probabilities for measuring |0⟩ and |1⟩. The histogram shows the distribution of measurement outcomes.\n",
                "\n",
                "This demonstrates the basic principle of quantum superposition, where a qubit can exist in multiple states simultaneously until measured.\n",
                "\n",
                "## References\n",
                "\n",
                "- Nielsen, M. A., & Chuang, I. L. (2010). Quantum Computation and Quantum Information. Cambridge University Press.\n",
                "- Qiskit Documentation: [https://qiskit.org/documentation/](https://qiskit.org/documentation/)\n"
            ]
        }
    ],
    "metadata": {
        "kernelspec": {
            "display_name": "Python 3",
            "language": "python",
            "name": "python3"
        },
        "language_info": {
            "codemirror_mode": {
                "name": "ipython",
                "version": 3
            },
            "file_extension": ".py",
            "mimetype": "text/x-python",
            "name": "python",
            "nbconvert_exporter": "python",
            "pygments_lexer": "ipython3",
            "version": "3.8.8"
        }
    },
    "nbformat": 4,
    "nbformat_minor": 4
}
  