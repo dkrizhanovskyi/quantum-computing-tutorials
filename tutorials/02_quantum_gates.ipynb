{
    "metadata": {
      "title": "Quantum Gates",
      "author": "Daniil Krizhanovskyi",
      "description": "Detailed introduction to quantum gates, including their matrix representations, effects on qubit states, and practical examples.",
      "keywords": ["quantum computing", "quantum gates", "Pauli matrices", "unitary transformations", "quantum circuits"]
    },
    "cells": [
      {
        "cell_type": "markdown",
        "metadata": {},
        "source": [
          "# Quantum Gates\n",
          "In this notebook, we will explore quantum gates, the fundamental operations that manipulate qubit states. You will learn about the most commonly used quantum gates, their matrix representations, and how they transform qubit states."
        ]
      },
      {
        "cell_type": "markdown",
        "metadata": {},
        "source": [
          "## Table of Contents\n",
          "1. Introduction to Quantum Gates\n",
          "2. Single-Qubit Gates\n",
          "3. Multi-Qubit Gates\n",
          "4. Matrix Representations and Transformations\n",
          "5. Practical Exercises\n",
          "6. Conclusion"
        ]
      },
      {
        "cell_type": "markdown",
        "metadata": {},
        "source": [
          "## 1. Introduction to Quantum Gates\n",
          "Quantum gates are the building blocks of quantum circuits. They are analogous to classical logic gates but operate on qubits. Quantum gates are represented by unitary matrices, which means they are reversible operations."
        ]
      },
      {
        "cell_type": "markdown",
        "metadata": {},
        "source": [
          "## 2. Single-Qubit Gates\n",
          "### Pauli-X (NOT) Gate\n",
          "The Pauli-X gate, also known as the quantum NOT gate, flips the state of a qubit. Its matrix representation is:\n",
          "$$ X = \\begin{pmatrix} 0 & 1 \\\\ 1 & 0 \\end{pmatrix} $$\n",
          "Applying the X gate to a qubit in state $|0\\rangle$ transforms it to $|1\\rangle$ and vice versa."
        ]
      },
      {
        "cell_type": "code",
        "metadata": {},
        "source": [
          "from qiskit import QuantumCircuit\n",
          "qc = QuantumCircuit(1)\n",
          "qc.x(0)  # Apply X gate\n",
          "qc.draw('mpl')"
        ],
        "execution_count": null,
        "outputs": []
      },
      {
        "cell_type": "markdown",
        "metadata": {},
        "source": [
          "### Pauli-Y Gate\n",
          "The Pauli-Y gate introduces a phase shift in addition to flipping the qubit state. Its matrix representation is:\n",
          "$$ Y = \\begin{pmatrix} 0 & -i \\\\ i & 0 \\end{pmatrix} $$\n",
          "This gate combines both the X and Z operations with a phase factor."
        ]
      },
      {
        "cell_type": "code",
        "metadata": {},
        "source": [
          "qc = QuantumCircuit(1)\n",
          "qc.y(0)  # Apply Y gate\n",
          "qc.draw('mpl')"
        ],
        "execution_count": null,
        "outputs": []
      },
      {
        "cell_type": "markdown",
        "metadata": {},
        "source": [
          "### Pauli-Z Gate\n",
          "The Pauli-Z gate introduces a phase flip but leaves the basis states $|0\\rangle$ and $|1\\rangle$ unchanged. Its matrix representation is:\n",
          "$$ Z = \\begin{pmatrix} 1 & 0 \\\\ 0 & -1 \\end{pmatrix} $$\n",
          "This gate is often used to introduce phase shifts in quantum circuits."
        ]
      },
      {
        "cell_type": "code",
        "metadata": {},
        "source": [
          "qc = QuantumCircuit(1)\n",
          "qc.z(0)  # Apply Z gate\n",
          "qc.draw('mpl')"
        ],
        "execution_count": null,
        "outputs": []
      },
      {
        "cell_type": "markdown",
        "metadata": {},
        "source": [
          "### Hadamard Gate\n",
          "The Hadamard gate creates a superposition state from a basis state. Its matrix representation is:\n",
          "$$ H = \\frac{1}{\\sqrt{2}} \\begin{pmatrix} 1 & 1 \\\\ 1 & -1 \\end{pmatrix} $$\n",
          "Applying the Hadamard gate to $|0\\rangle$ produces the state:\n",
          "$$ H|0\\rangle = \\frac{1}{\\sqrt{2}}(|0\\rangle + |1\\rangle) $$"
        ]
      },
      {
        "cell_type": "code",
        "metadata": {},
        "source": [
          "qc = QuantumCircuit(1)\n",
          "qc.h(0)  # Apply Hadamard gate\n",
          "qc.draw('mpl')"
        ],
        "execution_count": null,
        "outputs": []
      },
      {
        "cell_type": "markdown",
        "metadata": {},
        "source": [
          "## 3. Multi-Qubit Gates\n",
          "### CNOT Gate (Controlled-NOT)\n",
          "The CNOT gate is a two-qubit gate that flips the state of the target qubit if the control qubit is in the state $|1\\rangle$. Its matrix representation is:\n",
          "$$ \\text{CNOT} = \\begin{pmatrix} 1 & 0 & 0 & 0 \\\\ 0 & 1 & 0 & 0 \\\\ 0 & 0 & 0 & 1 \\\\ 0 & 0 & 1 & 0 \\end{pmatrix} $$\n",
          "The CNOT gate is crucial for creating entanglement between qubits."
        ]
      },
      {
        "cell_type": "code",
        "metadata": {},
        "source": [
          "qc = QuantumCircuit(2)\n",
          "qc.cx(0, 1)  # Apply CNOT gate\n",
          "qc.draw('mpl')"
        ],
        "execution_count": null,
        "outputs": []
      },
      {
        "cell_type": "markdown",
        "metadata": {},
        "source": [
          "## 4. Matrix Representations and Transformations\n",
          "Let's see how the quantum gates transform the states of qubits. For example, applying an X gate to a qubit initially in state $|0\\rangle$ transforms it to $|1\\rangle$:\n",
          "$$ X|0\\rangle = \\begin{pmatrix} 0 & 1 \\\\ 1 & 0 \\end{pmatrix} \\begin{pmatrix} 1 \\\\ 0 \\end{pmatrix} = \\begin{pmatrix} 0 \\\\ 1 \\end{pmatrix} = |1\\rangle $$\n",
          "Similarly, applying a Hadamard gate to $|0\\rangle$ creates a superposition:\n",
          "$$ H|0\\rangle = \\frac{1}{\\sqrt{2}} \\begin{pmatrix} 1 & 1 \\\\ 1 & -1 \\end{pmatrix} \\begin{pmatrix} 1 \\\\ 0 \\end{pmatrix} = \\frac{1}{\\sqrt{2}} \\begin{pmatrix} 1 \\\\ 1 \\end{pmatrix} $$"
        ]
      },
      {
        "cell_type": "markdown",
        "metadata": {},
        "source": [
          "## 5. Practical Exercises\n",
          "1. Try applying a sequence of gates (e.g., X, Y, Z) to see how they affect the state of a qubit.\n",
          "2. Experiment with multi-qubit gates, such as CNOT, to create entangled states.\n",
          "3. Visualize the results using the Bloch sphere to better understand the transformations."
        ]
      },
      {
        "cell_type": "markdown",
        "metadata": {},
        "source": [
          "## 6. Conclusion\n",
          "In this notebook, you learned about quantum gates, their matrix representations, and how they are used to manipulate qubit states. Understanding these gates is crucial for building quantum circuits and algorithms."
        ]
      }
    ]
  }
  