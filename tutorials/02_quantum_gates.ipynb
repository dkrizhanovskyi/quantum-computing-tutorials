{
    "cells": [
     {
      "cell_type": "markdown",
      "metadata": {},
      "source": [
       "# Quantum Gates\n",
       "\n",
       "In this tutorial, we will explore the basic quantum gates in Qiskit.\n",
       "\n",
       "Quantum gates are the building blocks of quantum circuits. They operate on qubits and change their states."
      ]
     },
     {
      "cell_type": "code",
      "execution_count": null,
      "metadata": {},
      "outputs": [],
      "source": [
       "from qiskit import QuantumCircuit\n",
       "\n",
       "# Create a Quantum Circuit with one qubit\n",
       "qc = QuantumCircuit(1)\n",
       "\n",
       "# Apply X gate on qubit 0\n",
       "qc.x(0)\n",
       "\n",
       "# Draw the circuit\n",
       "qc.draw('mpl')"
      ]
     },
     {
      "cell_type": "markdown",
      "metadata": {},
      "source": [
       "The above code creates a quantum circuit with one qubit and applies an X gate, which flips the qubit state from |0⟩ to |1⟩."
      ]
     },
     {
      "cell_type": "code",
      "execution_count": null,
      "metadata": {},
      "outputs": [],
      "source": [
       "# Apply H gate on qubit 0\n",
       "qc.h(0)\n",
       "\n",
       "# Draw the circuit\n",
       "qc.draw('mpl')"
      ]
     }
    ],
    "metadata": {
     "kernelspec": {
      "display_name": "Python 3",
      "language": "python",
      "name": "python3"
     },
     "language_info": {
      "codemirror_mode": {
       "name": "ipython",
       "version": 3
      },
      "file_extension": ".py",
      "mimetype": "text/x-python",
      "name": "python",
      "nbconvert_exporter": "python",
      "pygments_lexer": "ipython3",
      "version": "3.7.4"
     }
    },
    "nbformat": 4,
    "nbformat_minor": 2
   }   