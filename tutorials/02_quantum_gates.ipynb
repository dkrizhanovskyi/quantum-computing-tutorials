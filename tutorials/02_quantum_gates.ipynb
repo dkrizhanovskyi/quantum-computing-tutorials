{
    "cells": [
        {
            "cell_type": "markdown",
            "metadata": {},
            "source": [
                "# Quantum Gates\n",
                "\n",
                "In this tutorial, we will explore various quantum gates and how to use them in Qiskit. Quantum gates are the building blocks of quantum circuits, similar to classical logic gates in classical circuits.\n"
            ]
        },
        {
            "cell_type": "markdown",
            "metadata": {},
            "source": [
                "## Basic Quantum Gates\n",
                "\n",
                "### Pauli-X Gate\n",
                "The Pauli-X gate (also known as the NOT gate) flips the state of a qubit. It is represented by the matrix:\n",
                "$$ X = \\begin{pmatrix} 0 & 1 \\\\ 1 & 0 \\end{pmatrix} $$\n",
                "\n",
                "When applied to a qubit in state |0⟩, it transforms it to state |1⟩, and vice versa.\n",
                "\n",
                "Let's create a quantum circuit to demonstrate the Pauli-X gate."
            ]
        },
        {
            "cell_type": "code",
            "execution_count": null,
            "metadata": {},
            "outputs": [],
            "source": [
                "from qiskit import QuantumCircuit, Aer, execute\n",
                "\n",
                "# Create a Quantum Circuit with one qubit\n",
                "qc = QuantumCircuit(1)\n",
                "\n",
                "# Apply an X gate on qubit 0\n",
                "qc.x(0)\n",
                "\n",
                "# Draw the circuit\n",
                "qc.draw('mpl')"
            ]
        },
        {
            "cell_type": "markdown",
            "metadata": {},
            "source": [
                "The above code creates a quantum circuit with one qubit and applies an X gate, which flips the state of the qubit.\n"
            ]
        },
        {
            "cell_type": "code",
            "execution_count": null,
            "metadata": {},
            "outputs": [],
            "source": [
                "# Use Aer's qasm_simulator\n",
                "simulator = Aer.get_backend('qasm_simulator')\n",
                "\n",
                "# Execute the circuit on the qasm simulator\n",
                "job = execute(qc, simulator, shots=1000)\n",
                "\n",
                "# Grab results from the job\n",
                "result = job.result()\n",
                "\n",
                "# Returns counts\n",
                "counts = result.get_counts(qc)\n",
                "print(\"Counts:\", counts)\n",
                "\n",
                "# Plot a histogram\n",
                "from qiskit.visualization import plot_histogram\n",
                "plot_histogram(counts)"
            ]
        },
        {
            "cell_type": "markdown",
            "metadata": {},
            "source": [
                "The above code simulates the quantum circuit and measures the qubit multiple times to obtain the probability distribution of the states.\n",
                "\n",
                "### Pauli-Z Gate\n",
                "The Pauli-Z gate (also known as the phase flip gate) flips the phase of the qubit's state. It is represented by the matrix:\n",
                "$$ Z = \\begin{pmatrix} 1 & 0 \\\\ 0 & -1 \\end{pmatrix} $$\n",
                "\n",
                "When applied to a qubit in state $|+\\rangle = \\frac{1}{\\sqrt{2}}(|0\\rangle + |1\\rangle)$, it transforms it to state $|−\\rangle = \\frac{1}{\\sqrt{2}}(|0\\rangle − |1\\rangle)$.\n",
                "\n",
                "Let's create a quantum circuit to demonstrate the Pauli-Z gate."
            ]
        },
        {
            "cell_type": "code",
            "execution_count": null,
            "metadata": {},
            "outputs": [],
            "source": [
                "# Create a Quantum Circuit with one qubit\n",
                "qc = QuantumCircuit(1)\n",
                "\n",
                "# Apply a Z gate on qubit 0\n",
                "qc.z(0)\n",
                "\n",
                "# Draw the circuit\n",
                "qc.draw('mpl')"
            ]
        },
        {
            "cell_type": "markdown",
            "metadata": {},
            "source": [
                "The above code creates a quantum circuit with one qubit and applies a Z gate, which flips the phase of the qubit's state.\n"
            ]
        },
        {
            "cell_type": "code",
            "execution_count": null,
            "metadata": {},
            "outputs": [],
            "source": [
                "# Use Aer's qasm_simulator\n",
                "simulator = Aer.get_backend('qasm_simulator')\n",
                "\n",
                "# Execute the circuit on the qasm simulator\n",
                "job = execute(qc, simulator, shots=1000)\n",
                "\n",
                "# Grab results from the job\n",
                "result = job.result()\n",
                "\n",
                "# Returns counts\n",
                "counts = result.get_counts(qc)\n",
                "print(\"Counts:\", counts)\n",
                "\n",
                "# Plot a histogram\n",
                "plot_histogram(counts)"
            ]
        },
        {
            "cell_type": "markdown",
            "metadata": {},
            "source": [
                "The above code simulates the quantum circuit and measures the qubit multiple times to obtain the probability distribution of the states.\n",
                "\n",
                "### Hadamard Gate\n",
                "The Hadamard gate (H) creates a superposition state when applied to a qubit. It is represented by the matrix:\n",
                "$$ H = \\frac{1}{\\sqrt{2}} \\begin{pmatrix} 1 & 1 \\\\ 1 & -1 \\end{pmatrix} $$\n",
                "\n",
                "When applied to a qubit in state |0⟩, it transforms it to state $|+\\rangle = \\frac{1}{\\sqrt{2}}(|0\\rangle + |1\\rangle)$.\n",
                "\n",
                "Let's create a quantum circuit to demonstrate the Hadamard gate."
            ]
        },
        {
            "cell_type": "code",
            "execution_count": null,
            "metadata": {},
            "outputs": [],
            "source": [
                "# Create a Quantum Circuit with one qubit\n",
                "qc = QuantumCircuit(1)\n",
                "\n",
                "# Apply a Hadamard gate on qubit 0\n",
                "qc.h(0)\n",
                "\n",
                "# Draw the circuit\n",
                "qc.draw('mpl')"
            ]
        },
        {
            "cell_type": "markdown",
            "metadata": {},
            "source": [
                "The above code creates a quantum circuit with one qubit and applies a Hadamard gate, which creates a superposition state.\n"
            ]
        },
        {
            "cell_type": "code",
            "execution_count": null,
            "metadata": {},
            "outputs": [],
            "source": [
                "# Use Aer's qasm_simulator\n",
                "simulator = Aer.get_backend('qasm_simulator')\n",
                "\n",
                "# Execute the circuit on the qasm simulator\n",
                "job = execute(qc, simulator, shots=1000)\n",
                "\n",
                "# Grab results from the job\n",
                "result = job.result()\n",
                "\n",
                "# Returns counts\n",
                "counts = result.get_counts(qc)\n",
                "print(\"Counts:\", counts)\n",
                "\n",
                "# Plot a histogram\n",
                "plot_histogram(counts)"
            ]
        },
        {
            "cell_type": "markdown",
            "metadata": {},
            "source": [
                "The above code simulates the quantum circuit and measures the qubit multiple times to obtain the probability distribution of the states.\n",
                "\n",
                "### CNOT Gate\n",
                "The CNOT gate (CX) is a two-qubit gate where the second qubit (target) is flipped if the first qubit (control) is in the state |1⟩. It is represented by the matrix:\n",
                "$$ \\text{CNOT} = \\begin{pmatrix} 1 & 0 & 0 & 0 \\\\ 0 & 1 & 0 & 0 \\\\ 0 & 0 & 0 & 1 \\\\ 0 & 0 & 1 & 0 \\end{pmatrix} $$\n",
                "\n",
                "Let's create a quantum circuit to demonstrate the CNOT gate."
            ]
        },
        {
            "cell_type": "code",
            "execution_count": null,
            "metadata": {},
            "outputs": [],
            "source": [
                "# Create a Quantum Circuit with two qubits\n",
                "qc = QuantumCircuit(2)\n",
                "\n",
                "# Apply an X gate on qubit 0 to set it to |1⟩\n",
                "qc.x(0)\n",
                "\n",
                "# Apply a CNOT gate with qubit 0 as control and qubit 1 as target\n",
                "qc.cx(0, 1)\n",
                "\n",
                "# Draw the circuit\n",
                "qc.draw('mpl')"
            ]
        },
        {
            "cell_type": "markdown",
            "metadata": {},
            "source": [
                "The above code creates a quantum circuit with two qubits. An X gate is applied to the first qubit to set it to |1⟩, and then a CNOT gate is applied with the first qubit as the control and the second qubit as the target.\n"
            ]
        },
        {
            "cell_type": "code",
            "execution_count": null,
            "metadata": {},
            "outputs": [],
            "source": [
                "# Use Aer's qasm_simulator\n",
                "simulator = Aer.get_backend('qasm_simulator')\n",
                "\n",
                "# Execute the circuit on the qasm simulator\n",
                "job = execute(qc, simulator, shots=1000)\n",
                "\n",
                "# Grab results from the job\n",
                "result = job.result()\n",
                "\n",
                "# Returns counts\n",
                "counts = result.get_counts(qc)\n",
                "print(\"Counts:\", counts)\n",
                "\n",
                "# Plot a histogram\n",
                "plot_histogram(counts)"
            ]
        },
        {
            "cell_type": "markdown",
            "metadata": {},
            "source": [
                "The above code simulates the quantum circuit and measures the qubits multiple times to obtain the probability distribution of the states.\n",
                "\n",
                "## Conclusion\n",
                "\n",
                "In this notebook, we explored several fundamental quantum gates including the Pauli-X, Pauli-Z, Hadamard, and CNOT gates. We created quantum circuits to demonstrate each gate and analyzed the results using Qiskit.\n",
                "\n",
                "## References\n",
                "\n",
                "- Nielsen, M. A., & Chuang, I. L. (2010). Quantum Computation and Quantum Information. Cambridge University Press.\n",
                "- Qiskit Documentation: [https://qiskit.org/documentation/](https://qiskit.org/documentation/)\n"
            ]
        }
    ],
    "metadata": {
        "kernelspec": {
            "display_name": "Python 3",
            "language": "python",
            "name": "python3"
        },
        "language_info": {
            "codemirror_mode": {
                "name": "ipython",
                "version": 3
            },
            "file_extension": ".py",
            "mimetype": "text/x-python",
            "name": "python",
            "nbconvert_exporter": "python",
            "pygments_lexer": "ipython3",
            "version": "3.8.8"
        }
    },
    "nbformat": 4,
    "nbformat_minor": 4
}
