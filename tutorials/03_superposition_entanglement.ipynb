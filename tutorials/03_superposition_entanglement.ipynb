{
    "cells": [
        {
            "cell_type": "markdown",
            "metadata": {},
            "source": [
                "# Superposition and Entanglement\n",
                "\n",
                "In this tutorial, we will explore the concepts of superposition and entanglement in quantum computing using Qiskit.\n"
            ]
        },
        {
            "cell_type": "markdown",
            "metadata": {},
            "source": [
                "## Superposition\n",
                "\n",
                "A **qubit** can exist in a state of superposition, where it is simultaneously in both the |0⟩ and |1⟩ states. This is in contrast to a classical bit, which can only be in one of these states at a given time.\n",
                "\n",
                "Mathematically, the state of a qubit can be written as:\n",
                "\n",
                "$$|\\psi\\rangle = \\alpha|0\\rangle + \\beta|1\\rangle$$\n",
                "\n",
                "where $\\alpha$ and $\\beta$ are complex numbers such that $|\\alpha|^2 + |\\beta|^2 = 1$.\n",
                "\n",
                "Let's create a quantum circuit to demonstrate superposition."
            ]
        },
        {
            "cell_type": "code",
            "execution_count": null,
            "metadata": {},
            "outputs": [],
            "source": [
                "from qiskit import QuantumCircuit, Aer, execute\n",
                "\n",
                "# Create a Quantum Circuit with one qubit\n",
                "qc = QuantumCircuit(1)\n",
                "\n",
                "# Apply a Hadamard gate on qubit 0 to create superposition\n",
                "qc.h(0)\n",
                "\n",
                "# Draw the circuit\n",
                "qc.draw('mpl')"
            ]
        },
        {
            "cell_type": "markdown",
            "metadata": {},
            "source": [
                "The above code creates a quantum circuit with one qubit and applies a Hadamard gate, which puts the qubit in a superposition state.\n"
            ]
        },
        {
            "cell_type": "code",
            "execution_count": null,
            "metadata": {},
            "outputs": [],
            "source": [
                "# Use Aer's qasm_simulator\n",
                "simulator = Aer.get_backend('qasm_simulator')\n",
                "\n",
                "# Execute the circuit on the qasm simulator\n",
                "job = execute(qc, simulator, shots=1000)\n",
                "\n",
                "# Grab results from the job\n",
                "result = job.result()\n",
                "\n",
                "# Returns counts\n",
                "counts = result.get_counts(qc)\n",
                "print(\"Counts:\", counts)\n",
                "\n",
                "# Plot a histogram\n",
                "from qiskit.visualization import plot_histogram\n",
                "plot_histogram(counts)"
            ]
        },
        {
            "cell_type": "markdown",
            "metadata": {},
            "source": [
                "The above code simulates the quantum circuit and measures the qubit multiple times to obtain the probability distribution of the states. Since the qubit was put into a superposition state, we expect approximately equal probabilities for measuring |0⟩ and |1⟩.\n"
            ]
        },
        {
            "cell_type": "markdown",
            "metadata": {},
            "source": [
                "## Entanglement\n",
                "\n",
                "Entanglement is a quantum phenomenon where the states of two or more qubits become linked, such that the state of one qubit cannot be described independently of the state of the other qubit(s), even if they are separated by large distances.\n",
                "\n",
                "Let's create a quantum circuit to demonstrate entanglement using the Bell state."
            ]
        },
        {
            "cell_type": "code",
            "execution_count": null,
            "metadata": {},
            "outputs": [],
            "source": [
                "# Create a Quantum Circuit with two qubits\n",
                "qc = QuantumCircuit(2)\n",
                "\n",
                "# Apply a Hadamard gate on qubit 0\n",
                "qc.h(0)\n",
                "\n",
                "# Apply a CNOT gate (controlled-X gate) with qubit 0 as control and qubit 1 as target\n",
                "qc.cx(0, 1)\n",
                "\n",
                "# Draw the circuit\n",
                "qc.draw('mpl')"
            ]
        },
        {
            "cell_type": "markdown",
            "metadata": {},
            "source": [
                "The above code creates a quantum circuit with two qubits. A Hadamard gate is applied to the first qubit to create a superposition. A CNOT gate is then applied with the first qubit as the control and the second qubit as the target, creating an entangled state (Bell state).\n"
            ]
        },
        {
            "cell_type": "code",
            "execution_count": null,
            "metadata": {},
            "outputs": [],
            "source": [
                "# Execute the circuit on the qasm simulator\n",
                "job = execute(qc, simulator, shots=1000)\n",
                "\n",
                "# Grab results from the job\n",
                "result = job.result()\n",
                "\n",
                "# Returns counts\n",
                "counts = result.get_counts(qc)\n",
                "print(\"Counts:\", counts)\n",
                "\n",
                "# Plot a histogram\n",
                "plot_histogram(counts)"
            ]
        },
        {
            "cell_type": "markdown",
            "metadata": {},
            "source": [
                "The above code simulates the quantum circuit and measures the qubits multiple times to obtain the probability distribution of the states. For an entangled Bell state, we expect to see the states |00⟩ and |11⟩ with equal probability.\n"
            ]
        },
        {
            "cell_type": "markdown",
            "metadata": {},
            "source": [
                "## Conclusion\n",
                "\n",
                "In this notebook, we explored the concepts of superposition and entanglement in quantum computing. We created quantum circuits to demonstrate these phenomena using Qiskit and analyzed the results.\n",
                "\n",
                "## References\n",
                "\n",
                "- Nielsen, M. A., & Chuang, I. L. (2010). Quantum Computation and Quantum Information. Cambridge University Press.\n",
                "- Qiskit Documentation: [https://qiskit.org/documentation/](https://qiskit.org/documentation/)\n"
            ]
        }
    ],
    "metadata": {
        "kernelspec": {
            "display_name": "Python 3",
            "language": "python",
            "name": "python3"
        },
        "language_info": {
            "codemirror_mode": {
                "name": "ipython",
                "version": 3
            },
            "file_extension": ".py",
            "mimetype": "text/x-python",
            "name": "python",
            "nbconvert_exporter": "python",
            "pygments_lexer": "ipython3",
            "version": "3.8.8"
        }
    },
    "nbformat": 4,
    "nbformat_minor": 4
}
