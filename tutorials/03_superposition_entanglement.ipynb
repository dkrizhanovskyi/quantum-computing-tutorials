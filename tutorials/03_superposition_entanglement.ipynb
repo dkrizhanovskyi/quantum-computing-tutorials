{
    "metadata": {
      "title": "Superposition and Entanglement",
      "author": "Daniil Krizhanovskyi",
      "description": "Comprehensive exploration of the quantum concepts of superposition and entanglement, including mathematical representations, visualizations, and practical exercises.",
      "keywords": ["quantum computing", "superposition", "entanglement", "quantum states", "Bell states"]
    },
    "cells": [
      {
        "cell_type": "markdown",
        "metadata": {},
        "source": [
          "# Superposition and Entanglement\n",
          "In this notebook, we will explore two of the most fundamental and fascinating concepts in quantum computing: superposition and entanglement. These concepts form the basis of many quantum algorithms and protocols."
        ]
      },
      {
        "cell_type": "markdown",
        "metadata": {},
        "source": [
          "## Table of Contents\n",
          "1. Introduction to Superposition\n",
          "2. Mathematical Representation of Superposition\n",
          "3. Introduction to Entanglement\n",
          "4. Mathematical Representation of Entanglement\n",
          "5. Creating and Visualizing Bell States\n",
          "6. Practical Exercises\n",
          "7. Conclusion"
        ]
      },
      {
        "cell_type": "markdown",
        "metadata": {},
        "source": [
          "## 1. Introduction to Superposition\n",
          "Superposition is the ability of a quantum system to be in multiple states at the same time. Unlike classical bits, which can be either 0 or 1, qubits can be in a state that is a combination of both. This property allows quantum computers to perform many calculations simultaneously."
        ]
      },
      {
        "cell_type": "markdown",
        "metadata": {},
        "source": [
          "## 2. Mathematical Representation of Superposition\n",
          "A qubit in superposition can be represented as:\n",
          "$$ |\\psi\\rangle = \\alpha|0\\rangle + \\beta|1\\rangle $$\n",
          "where $\\alpha$ and $\\beta$ are complex numbers such that $|\\alpha|^2 + |\\beta|^2 = 1$.\n\n",
          "For example, applying a Hadamard gate to a qubit initially in the state $|0\\rangle$ creates a superposition state:\n",
          "$$ H|0\\rangle = \\frac{1}{\\sqrt{2}}(|0\\rangle + |1\\rangle) $$"
        ]
      },
      {
        "cell_type": "code",
        "metadata": {},
        "source": [
          "from qiskit import QuantumCircuit\n",
          "qc = QuantumCircuit(1)\n",
          "qc.h(0)  # Apply Hadamard gate to create superposition\n",
          "qc.draw('mpl')"
        ],
        "execution_count": null,
        "outputs": []
      },
      {
        "cell_type": "markdown",
        "metadata": {},
        "source": [
          "## 3. Introduction to Entanglement\n",
          "Entanglement is a quantum phenomenon where two or more qubits become linked, such that the state of one qubit cannot be described independently of the state of the other qubit(s). When qubits are entangled, the measurement of one qubit instantaneously determines the state of the other, no matter how far apart they are."
        ]
      },
      {
        "cell_type": "markdown",
        "metadata": {},
        "source": [
          "## 4. Mathematical Representation of Entanglement\n",
          "One of the simplest forms of entanglement is the Bell state, which is created by applying a Hadamard gate and a CNOT gate to two qubits. The Bell state is represented as:\n",
          "$$ |\\Phi^+\\rangle = \\frac{1}{\\sqrt{2}}(|00\\rangle + |11\\rangle) $$\n",
          "This state is a perfect example of entanglement, where the measurement of one qubit immediately determines the state of the other."
        ]
      },
      {
        "cell_type": "code",
        "metadata": {},
        "source": [
          "qc = QuantumCircuit(2)\n",
          "qc.h(0)\n",
          "qc.cx(0, 1)  # Create Bell state (entanglement)\n",
          "qc.draw('mpl')"
        ],
        "execution_count": null,
        "outputs": []
      },
      {
        "cell_type": "markdown",
        "metadata": {},
        "source": [
          "## 5. Creating and Visualizing Bell States\n",
          "Let's visualize the Bell state we just created. We can use the Bloch sphere to understand the entangled nature of the qubits."
        ]
      },
      {
        "cell_type": "code",
        "metadata": {},
        "source": [
          "from qiskit.visualization import plot_bloch_multivector\n",
          "from qiskit.quantum_info import Statevector\n",
          "\n",
          "state = Statevector.from_instruction(qc)\n",
          "plot_bloch_multivector(state)"
        ],
        "execution_count": null,
        "outputs": []
      },
      {
        "cell_type": "markdown",
        "metadata": {},
        "source": [
          "## 6. Practical Exercises\n",
          "1. Try creating different Bell states by changing the initial state of the qubits or the order of gates.\n",
          "2. Explore the effects of measuring one qubit in an entangled state. What happens to the other qubit?\n",
          "3. Use the Bloch sphere to visualize how different operations affect the state of entangled qubits."
        ]
      },
      {
        "cell_type": "markdown",
        "metadata": {},
        "source": [
          "## 7. Conclusion\n",
          "In this notebook, you explored the concepts of superposition and entanglement, two of the most important principles in quantum computing. These concepts are fundamental to understanding quantum algorithms and protocols."
        ]
      }
    ]
  }
  