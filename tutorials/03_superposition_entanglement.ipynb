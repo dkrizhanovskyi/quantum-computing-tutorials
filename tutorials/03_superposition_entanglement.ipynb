{
    "cells": [
     {
      "cell_type": "markdown",
      "metadata": {},
      "source": [
       "# Superposition and Entanglement\n",
       "\n",
       "In this tutorial, we will explore the concepts of superposition and entanglement in quantum computing.\n",
       "\n",
       "Superposition allows a qubit to be in a combination of the |0⟩ and |1⟩ states simultaneously. Entanglement is a unique quantum phenomenon where the states of two or more qubits become intertwined."
      ]
     },
     {
      "cell_type": "code",
      "execution_count": null,
      "metadata": {},
      "outputs": [],
      "source": [
       "from qiskit import QuantumCircuit\n",
       "\n",
       "# Create a Quantum Circuit with two qubits\n",
       "qc = QuantumCircuit(2)\n",
       "\n",
       "# Apply H gate on qubit 0\n",
       "qc.h(0)\n",
       "\n",
       "# Apply CX (CNOT) gate on control qubit 0 and target qubit 1\n",
       "qc.cx(0, 1)\n",
       "\n",
       "# Draw the circuit\n",
       "qc.draw('mpl')"
      ]
     },
     {
      "cell_type": "markdown",
      "metadata": {},
      "source": [
       "The above code creates a quantum circuit with two qubits, puts the first qubit in superposition using the H gate, and then entangles the two qubits using a CNOT gate."
      ]
     },
     {
      "cell_type": "code",
      "execution_count": null,
      "metadata": {},
      "outputs": [],
      "source": [
       "# Use Aer's qasm_simulator\n",
       "from qiskit import Aer, execute\n",
       "\n",
       "simulator = Aer.get_backend('qasm_simulator')\n",
       "\n",
       "# Execute the circuit on the qasm simulator\n",
       "job = execute(qc, simulator, shots=1000)\n",
       "\n",
       "# Grab results from the job\n",
       "result = job.result()\n",
       "\n",
       "# Returns counts\n",
       "counts = result.get_counts(qc)\n",
       "print(\"Counts:\", counts)\n",
       "\n",
       "# Plot a histogram\n",
       "from qiskit.visualization import plot_histogram\n",
       "plot_histogram(counts)"
      ]
     }
    ],
    "metadata": {
     "kernelspec": {
      "display_name": "Python 3",
      "language": "python",
      "name": "python3"
     },
     "language_info": {
      "codemirror_mode": {
       "name": "ipython",
       "version": 3
      },
      "file_extension": ".py",
      "mimetype": "text/x-python",
      "name": "python",
      "nbconvert_exporter": "python",
      "pygments_lexer": "ipython3",
      "version": "3.7.4"
     }
    },
    "nbformat": 4,
    "nbformat_minor": 2
   }
   