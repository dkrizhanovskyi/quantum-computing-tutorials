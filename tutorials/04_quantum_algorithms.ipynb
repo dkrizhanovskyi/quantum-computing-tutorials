{
    "cells": [
     {
      "cell_type": "markdown",
      "metadata": {},
      "source": [
       "# Quantum Algorithms\n",
       "\n",
       "In this tutorial, we will explore the basics of quantum algorithms and their implementation using Qiskit.\n",
       "\n",
       "We will start with a simple quantum algorithm and then move to more complex ones."
      ]
     },
     {
      "cell_type": "code",
      "execution_count": null,
      "metadata": {},
      "outputs": [],
      "source": [
       "from qiskit import QuantumCircuit\n",
       "\n",
       "# Create a Quantum Circuit with two qubits\n",
       "qc = QuantumCircuit(2)\n",
       "\n",
       "# Apply H gate on qubit 0\n",
       "qc.h(0)\n",
       "\n",
       "# Apply CX (CNOT) gate on control qubit 0 and target qubit 1\n",
       "qc.cx(0, 1)\n",
       "\n",
       "# Apply H gate on qubit 1\n",
       "qc.h(1)\n",
       "\n",
       "# Draw the circuit\n",
       "qc.draw('mpl')"
      ]
     }
    ],
    "metadata": {
     "kernelspec": {
      "display_name": "Python 3",
      "language": "python",
      "name": "python3"
     },
     "language_info": {
      "codemirror_mode": {
       "name": "ipython",
       "version": 3
      },
      "file_extension": ".py",
      "mimetype": "text/x-python",
      "name": "python",
      "nbconvert_exporter": "python",
      "pygments_lexer": "ipython3",
      "version": "3.7.4"
     }
    },
    "nbformat": 4,
    "nbformat_minor": 2
   }
   
