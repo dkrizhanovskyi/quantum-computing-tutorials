{
    "cells": [
        {
            "cell_type": "markdown",
            "metadata": {},
            "source": [
                "# Quantum Algorithms\n",
                "\n",
                "In this tutorial, we will explore some fundamental quantum algorithms using Qiskit. We will cover:\n",
                "1. Deutsch-Jozsa Algorithm\n",
                "2. Grover's Algorithm\n",
                "3. Shor's Algorithm\n"
            ]
        },
        {
            "cell_type": "markdown",
            "metadata": {},
            "source": [
                "## Deutsch-Jozsa Algorithm\n",
                "\n",
                "The Deutsch-Jozsa algorithm is a quantum algorithm designed to solve a specific problem more efficiently than any classical algorithm. It determines if a function is constant or balanced.\n",
                "\n",
                "### Theoretical Background\n",
                "\n",
                "The Deutsch-Jozsa algorithm leverages the principles of quantum parallelism and interference to determine the nature of the function with a single evaluation.\n"
            ]
        },
        {
            "cell_type": "code",
            "execution_count": null,
            "metadata": {},
            "outputs": [],
            "source": [
                "from qiskit import QuantumCircuit, Aer, execute\n",
                "\n",
                "def deutsch_jozsa_oracle(case='balanced'):\n",
                "    oracle = QuantumCircuit(2)\n",
                "    if case == 'balanced':\n",
                "        oracle.cx(0, 1)\n",
                "    return oracle\n",
                "\n",
                "qc = QuantumCircuit(2, 1)\n",
                "\n",
                "# Apply Hadamard gates\n",
                "qc.h([0, 1])\n",
                "\n",
                "# Apply the Deutsch-Jozsa oracle\n",
                "oracle = deutsch_jozsa_oracle('balanced')\n",
                "qc.append(oracle.to_gate(), [0, 1])\n",
                "\n",
                "# Apply Hadamard gates again\n",
                "qc.h(0)\n",
                "\n",
                "# Measurement\n",
                "qc.measure(0, 0)\n",
                "\n",
                "# Execute the circuit\n",
                "simulator = Aer.get_backend('qasm_simulator')\n",
                "result = execute(qc, simulator, shots=1024).result()\n",
                "counts = result.get_counts()\n",
                "print(\"Deutsch-Jozsa counts:\", counts)\n"
            ]
        },
        {
            "cell_type": "markdown",
            "metadata": {},
            "source": [
                "The above code implements the Deutsch-Jozsa algorithm. The oracle function is set to be balanced, and we measure the result to determine if the function is constant or balanced.\n"
            ]
        },
        {
            "cell_type": "markdown",
            "metadata": {},
            "source": [
                "## Grover's Algorithm\n",
                "\n",
                "Grover's algorithm is a quantum algorithm for searching an unsorted database with N entries in O(√N) time and using O(log N) space.\n",
                "\n",
                "### Theoretical Background\n",
                "\n",
                "Grover's algorithm uses amplitude amplification to find the unique input to a black box function that produces a particular output value.\n"
            ]
        },
        {
            "cell_type": "code",
            "execution_count": null,
            "metadata": {},
            "outputs": [],
            "source": [
                "from qiskit.circuit.library import GroverOperator\n",
                "from qiskit.visualization import plot_histogram\n",
                "\n",
                "def diffuser(nqubits):\n",
                "    qc = QuantumCircuit(nqubits)\n",
                "    qc.h(range(nqubits))\n",
                "    qc.x(range(nqubits))\n",
                "    qc.h(nqubits - 1)\n",
                "    qc.mcx(list(range(nqubits - 1)), nqubits - 1)\n",
                "    qc.h(nqubits - 1)\n",
                "    qc.x(range(nqubits))\n",
                "    qc.h(range(nqubits))\n",
                "    U_s = qc.to_gate()\n",
                "    U_s.name = \"U$_s$\"\n",
                "    return U_s\n",
                "\n",
                "nqubits = 3\n",
                "grover_circuit = QuantumCircuit(nqubits)\n",
                "\n",
                "# Apply Hadamard gates\n",
                "grover_circuit.h(range(nqubits))\n",
                "\n",
                "# Oracle\n",
                "oracle = QuantumCircuit(nqubits)\n",
                "oracle.z(5)\n",
                "U_w = oracle.to_gate()\n",
                "U_w.name = \"U$_\\omega$\"\n",
                "grover_circuit.append(U_w, range(nqubits))\n",
                "\n",
                "# Apply diffusion operator\n",
                "U_s = diffuser(nqubits)\n",
                "grover_circuit.append(U_s, range(nqubits))\n",
                "\n",
                "# Measurement\n",
                "grover_circuit.measure_all()\n",
                "\n",
                "# Execute the circuit\n",
                "compiled_circuit = transpile(grover_circuit, simulator)\n",
                "qobj = assemble(compiled_circuit)\n",
                "results = simulator.run(qobj).result()\n",
                "answer = results.get_counts()\n",
                "plot_histogram(answer)\n"
            ]
        },
        {
            "cell_type": "markdown",
            "metadata": {},
            "source": [
                "The above code implements Grover's algorithm. The oracle marks the desired state, and the diffuser amplifies the amplitude of the marked state, increasing the probability of measuring it.\n"
            ]
        },
        {
            "cell_type": "markdown",
            "metadata": {},
            "source": [
                "## Shor's Algorithm\n",
                "\n",
                "Shor's algorithm is a quantum algorithm for integer factorization, which runs exponentially faster than the best-known classical factoring algorithm.\n",
                "\n",
                "### Theoretical Background\n",
                "\n",
                "Shor's algorithm uses quantum Fourier transform and modular exponentiation to find the period of a function, which is then used to factorize integers.\n",
                "\n",
                "> **Note:** Due to the complexity of Shor's algorithm and the limitations of current quantum hardware, a full implementation of Shor's algorithm is beyond the scope of this tutorial. However, we can provide a high-level overview and some key components of the algorithm.\n"
            ]
        },
        {
            "cell_type": "code",
            "execution_count": null,
            "metadata": {},
            "outputs": [],
            "source": [
                "# Import necessary libraries\n",
                "from qiskit import QuantumCircuit\n",
                "from numpy.random import randint\n",
                "from math import gcd\n",
                "import numpy as np\n",
                "from qiskit.circuit.library import QFT\n",
                "\n",
                "def qpe_amod15(a):\n",
                "    n_count = 8\n",
                "    qc = QuantumCircuit(4+n_count, n_count)\n",
                "    for q in range(n_count):\n",
                "        qc.h(q)\n",
                "    qc.x(3+n_count)\n",
                "\n",
                "    for q in range(n_count):\n",
                "        qc.append(modexp(a, 2**q, 15),\n",
                "                  [q] + [i+n_count for i in range(4)])\n",
                "\n",
                "    qc.append(QFT(n_count).inverse(), range(n_count))\n",
                "    qc.measure(range(n_count), range(n_count))\n",
                "    return qc\n"
            ]
        },
        {
            "cell_type": "markdown",
            "metadata": {},
            "source": [
                "The above code is a high-level implementation of the period-finding component of Shor's algorithm using quantum phase estimation. The complete implementation would include classical post-processing to extract the factors.\n"
            ]
        },
        {
            "cell_type": "markdown",
            "metadata": {},
            "source": [
                "## Conclusion\n",
                "\n",
                "In this notebook, we explored some fundamental quantum algorithms, including the Deutsch-Jozsa algorithm, Grover's algorithm, and an overview of Shor's algorithm. These algorithms demonstrate the potential of quantum computing to solve certain problems more efficiently than classical algorithms.\n",
                "\n",
                "## References\n",
                "\n",
                "- Nielsen, M. A., & Chuang, I. L. (2010). Quantum Computation and Quantum Information. Cambridge University Press.\n",
                "- Qiskit Documentation: [https://qiskit.org/documentation/](https://qiskit.org/documentation/)\n"
            ]
        }
    ],
    "metadata": {
        "kernelspec": {
            "display_name": "Python 3",
            "language": "python",
            "name": "python3"
        },
        "language_info": {
            "codemirror_mode": {
                "name": "ipython",
                "version": 3
            },
            "file_extension": ".py",
            "mimetype": "text/x-python",
            "name": "python",
            "nbconvert_exporter": "python",
            "pygments_lexer": "ipython3",
            "version": "3.12.4"
        }
    },
    "nbformat": 4,
    "nbformat_minor": 4
}
